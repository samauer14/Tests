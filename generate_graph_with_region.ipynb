{
 "cells": [
  {
   "cell_type": "code",
   "execution_count": 18,
   "metadata": {
    "collapsed": true
   },
   "outputs": [],
   "source": [
    "#!/usr/bin/python\n",
    "# -*- coding: UTF-8 -*-\n",
    "import matplotlib\n",
    "\n",
    "import matplotlib.pyplot as plt\n",
    "\n",
    "%matplotlib inline\n",
    "\n",
    "import numpy as np\n",
    "\n",
    "import pandas as pd"
   ]
  },
  {
   "cell_type": "code",
   "execution_count": 27,
   "metadata": {},
   "outputs": [],
   "source": [
    "def generate_graph_with_region(region):\n",
    "    return generate_graph_with_region.plot.bar(x='Country',y='Population',title='Region Population Comparison',legend=False)"
   ]
  },
  {
   "cell_type": "code",
   "execution_count": 19,
   "metadata": {
    "collapsed": true
   },
   "outputs": [],
   "source": [
    "#reading the WHO data used previously in this course\n",
    "#regions are Africa, Europe, Americas, Eastern Mediterranean, South-East Asia, Western Pacific\n",
    "who_df = pd.read_csv('../data/WHO.csv')"
   ]
  },
  {
   "cell_type": "code",
   "execution_count": 20,
   "metadata": {
    "collapsed": true
   },
   "outputs": [],
   "source": [
    "assert isinstance(who_df, pd.DataFrame)\n",
    "assert who_df.shape == (194, 13)\n",
    "assert list(who_df.columns.values) == ['Country', 'Region', 'Population', 'Under15', 'Over60',\n",
    "       'FertilityRate', 'LifeExpectancy', 'ChildMortality',\n",
    "       'CellularSubscribers', 'LiteracyRate', 'GNI',\n",
    "       'PrimarySchoolEnrollmentMale', 'PrimarySchoolEnrollmentFemale']"
   ]
  },
  {
   "cell_type": "code",
   "execution_count": 21,
   "metadata": {},
   "outputs": [],
   "source": [
    "#Parsing the dataset down into the relevant columns \n",
    "who_df= who_df[['Region','Country','Population']]\n"
   ]
  },
  {
   "cell_type": "code",
   "execution_count": 22,
   "metadata": {
    "collapsed": true
   },
   "outputs": [],
   "source": [
    "assert list(who_df.columns.values) == ['Region','Country','Population']"
   ]
  },
  {
   "cell_type": "code",
   "execution_count": 23,
   "metadata": {
    "collapsed": true
   },
   "outputs": [],
   "source": [
    "#Setting Region as the index as that is how I am sorting them\n",
    "who_df=who_df.set_index('Region')"
   ]
  },
  {
   "cell_type": "code",
   "execution_count": 24,
   "metadata": {},
   "outputs": [
    {
     "name": "stdout",
     "output_type": "stream",
     "text": [
      "Please enter a region.\n",
      "Africa, Europe, Americas, Eastern Mediterranean, South-East Asia, or Western Pacific are your choices.\n"
     ]
    }
   ],
   "source": [
    "print (\"Please enter a region.\")\n",
    "print (\"Africa, Europe, Americas, Eastern Mediterranean, South-East Asia, or Western Pacific are your choices.\")"
   ]
  },
  {
   "cell_type": "code",
   "execution_count": 25,
   "metadata": {},
   "outputs": [
    {
     "name": "stdout",
     "output_type": "stream",
     "text": [
      "Africa\n"
     ]
    }
   ],
   "source": [
    "#returning the data for the entered region\n",
    "\n",
    "generate_graph_with_region=who_df.loc[input(), : ]"
   ]
  },
  {
   "cell_type": "code",
   "execution_count": null,
   "metadata": {
    "collapsed": true
   },
   "outputs": [],
   "source": [
    "#print bar graph using data for the inputed region\n",
    "generate_graph_with_region.plot.bar(x='Country',y='Population',title='Region Population Comparison',legend=False)"
   ]
  }
 ],
 "metadata": {
  "kernelspec": {
   "display_name": "Python 3",
   "language": "python",
   "name": "python3"
  },
  "language_info": {
   "codemirror_mode": {
    "name": "ipython",
    "version": 3
   },
   "file_extension": ".py",
   "mimetype": "text/x-python",
   "name": "python",
   "nbconvert_exporter": "python",
   "pygments_lexer": "ipython3",
   "version": "3.6.1"
  }
 },
 "nbformat": 4,
 "nbformat_minor": 2
}
